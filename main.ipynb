{
 "cells": [
  {
   "cell_type": "code",
   "execution_count": null,
   "outputs": [],
   "source": [
    "import pandas as pd"
   ],
   "metadata": {
    "collapsed": false
   }
  },
  {
   "cell_type": "markdown",
   "source": [
    "# Step 0: Data preparation"
   ],
   "metadata": {
    "collapsed": false
   }
  },
  {
   "cell_type": "code",
   "execution_count": null,
   "outputs": [],
   "source": [
    "df = pd.read_csv('reviews2.csv')\n",
    "df = df.rename(columns={'Rating': 'Score', 'Reviews': 'Text'}).reset_index().rename(columns={'index': 'Id'})\n",
    "print(df.describe())\n",
    "df.head()"
   ],
   "metadata": {
    "collapsed": false
   }
  },
  {
   "cell_type": "code",
   "execution_count": null,
   "outputs": [],
   "source": [
    "df = df[(df['Score'] != 3) & (df['Text'].str.len() < 500)]\n",
    "df = df[df['Review Votes'] > 10]\n",
    "df =df[~df.duplicated(subset=['Text'], keep='first')]\n",
    "\n",
    "len(df)"
   ],
   "metadata": {
    "collapsed": false
   }
  },
  {
   "cell_type": "code",
   "execution_count": null,
   "outputs": [],
   "source": [
    "df['Score'] = ['neg' if score < 3 else 'pos' for score in df['Score']]\n",
    "df = df[['Id', 'Text', 'Score']]\n",
    "df.head()"
   ],
   "metadata": {
    "collapsed": false
   }
  },
  {
   "cell_type": "code",
   "execution_count": null,
   "outputs": [],
   "source": [
    "# Check for null values in 'Score' column\n",
    "score_null_count = df['Score'].isnull().sum()\n",
    "if score_null_count > 0:\n",
    "    print(f\"Number of null values in 'Score' column: {score_null_count}\")\n",
    "else:\n",
    "    print(\"No null values found in 'Score' column\")\n",
    "\n",
    "# Check for null values in 'Text' column\n",
    "text_null_count = df['Text'].isnull().sum()\n",
    "if text_null_count > 0:\n",
    "    print(f\"Number of null values in 'Text' column: {text_null_count}\")\n",
    "else:\n",
    "    print(\"No null values found in 'Text' column\")\n",
    "\n",
    "df = df.dropna().reset_index()"
   ],
   "metadata": {
    "collapsed": false
   }
  },
  {
   "cell_type": "code",
   "execution_count": null,
   "outputs": [],
   "source": [
    "import seaborn as sns\n",
    "import matplotlib.pyplot as plt\n",
    "\n",
    "# Count the occurrences of each score\n",
    "score_counts = df['Score'].value_counts()\n",
    "\n",
    "# Create bar plot using seaborn\n",
    "plt.figure(figsize=(8, 6))\n",
    "sns.barplot(x=score_counts.index, y=score_counts.values)\n",
    "plt.xlabel('Score')\n",
    "plt.ylabel('Count')\n",
    "plt.title('Count of Scores')\n",
    "plt.show()"
   ],
   "metadata": {
    "collapsed": false
   }
  },
  {
   "cell_type": "code",
   "execution_count": null,
   "outputs": [],
   "source": [
    "from sklearn.preprocessing import LabelEncoder\n",
    "\n",
    "label_encoder = LabelEncoder()\n",
    "df = df.dropna()\n",
    "df['sentiment_encoded'] = label_encoder.fit_transform(df['Score'])"
   ],
   "metadata": {
    "collapsed": false
   }
  },
  {
   "cell_type": "markdown",
   "source": [
    "# Step 1: Sentiment analysis\n",
    "\n",
    "### VADER approach"
   ],
   "metadata": {
    "collapsed": false
   }
  },
  {
   "cell_type": "code",
   "execution_count": null,
   "outputs": [],
   "source": [
    "import nltk\n",
    "from nltk.sentiment import SentimentIntensityAnalyzer\n",
    "\n",
    "nltk.download('vader_lexicon')"
   ],
   "metadata": {
    "collapsed": false
   }
  },
  {
   "cell_type": "code",
   "execution_count": null,
   "outputs": [],
   "source": [
    "sid = SentimentIntensityAnalyzer()"
   ],
   "metadata": {
    "collapsed": false
   }
  },
  {
   "cell_type": "code",
   "execution_count": null,
   "outputs": [],
   "source": [
    "example = df['Text'][10]\n",
    "example"
   ],
   "metadata": {
    "collapsed": false
   }
  },
  {
   "cell_type": "code",
   "execution_count": null,
   "outputs": [],
   "source": [
    "sid.polarity_scores(example)"
   ],
   "metadata": {
    "collapsed": false
   }
  },
  {
   "cell_type": "code",
   "execution_count": null,
   "outputs": [],
   "source": [
    "df['Score'][10]"
   ],
   "metadata": {
    "collapsed": false
   }
  },
  {
   "cell_type": "code",
   "execution_count": null,
   "outputs": [],
   "source": [
    "vader_res = df['Text'].apply(lambda text: sid.polarity_scores(text))\n",
    "df['vader_pos'] = vader_res.apply(lambda score: score['pos'])\n",
    "df['vader_neg'] = vader_res.apply(lambda score: score['neg'])\n",
    "df['vader_neu'] = vader_res.apply(lambda score: score['neu'])\n",
    "df['vader_compound'] = vader_res.apply(lambda score: score['compound'])\n",
    "\n",
    "df.head()"
   ],
   "metadata": {
    "collapsed": false
   }
  },
  {
   "cell_type": "code",
   "execution_count": null,
   "outputs": [],
   "source": [
    "ax = sns.barplot(data=df, x='Score', y='vader_compound', order=['neg', 'pos'])\n",
    "ax.set_title('Compound score by stars')\n",
    "plt.show()"
   ],
   "metadata": {
    "collapsed": false
   }
  },
  {
   "cell_type": "code",
   "execution_count": null,
   "outputs": [],
   "source": [
    "def plot_sentiment_results(model):\n",
    "    fig, axs = plt.subplots(1, 3, figsize=(15, 5))\n",
    "    sns.barplot(data=df, x='Score', y=f'{model}_pos', ax=axs[0], order=['neg', 'pos'])\n",
    "    sns.barplot(data=df, x='Score', y=f'{model}_neu', ax=axs[1], order=['neg', 'pos'])\n",
    "    sns.barplot(data=df, x='Score', y=f'{model}_neg', ax=axs[2], order=['neg', 'pos'])\n",
    "    axs[0].set_title('Positive')\n",
    "    axs[1].set_title('Neutral')\n",
    "    axs[2].set_title('Negative')\n",
    "    plt.show()\n",
    "\n",
    "plot_sentiment_results('vader')"
   ],
   "metadata": {
    "collapsed": false
   }
  },
  {
   "cell_type": "markdown",
   "source": [
    "### RoBERTa pretrained model"
   ],
   "metadata": {
    "collapsed": false
   }
  },
  {
   "cell_type": "code",
   "execution_count": null,
   "outputs": [],
   "source": [
    "from scipy.special import softmax\n",
    "from transformers import AutoTokenizer, AutoModelForSequenceClassification\n",
    "\n",
    "MODEL = 'cardiffnlp/twitter-roberta-base-sentiment'\n",
    "\n",
    "tokenizer = AutoTokenizer.from_pretrained(MODEL)\n",
    "model = AutoModelForSequenceClassification.from_pretrained(MODEL)\n",
    "\n",
    "def polarity_scores_roberta(text):\n",
    "    encoded_inputs = tokenizer(text, return_tensors='pt')\n",
    "    logits = model(**encoded_inputs)\n",
    "\n",
    "    scores = logits[0][0].detach().numpy()\n",
    "    scores = softmax(scores)\n",
    "    return {\n",
    "        'roberta_neg': scores[0],\n",
    "        'roberta_neu': scores[1],\n",
    "        'roberta_pos': scores[2]\n",
    "    }"
   ],
   "metadata": {
    "collapsed": false
   }
  },
  {
   "cell_type": "code",
   "execution_count": null,
   "outputs": [],
   "source": [
    "from tqdm.notebook import tqdm\n",
    "\n",
    "roberta_res = {}\n",
    "for i, row in tqdm(df.iterrows(), total=len(df)):\n",
    "    row_id = row['Id']\n",
    "    row_text = row['Text']\n",
    "    score = polarity_scores_roberta(row_text)\n",
    "    roberta_res[row_id] = score"
   ],
   "metadata": {
    "collapsed": false
   }
  },
  {
   "cell_type": "code",
   "execution_count": null,
   "outputs": [],
   "source": [
    "results_df = pd.DataFrame(roberta_res).T\n",
    "results_df = results_df.reset_index().rename(columns={'index': 'Id'})\n",
    "df = df.merge(results_df, how='left')\n",
    "df.head()"
   ],
   "metadata": {
    "collapsed": false
   }
  },
  {
   "cell_type": "code",
   "execution_count": null,
   "outputs": [],
   "source": [
    "plot_sentiment_results('roberta')"
   ],
   "metadata": {
    "collapsed": false
   }
  },
  {
   "cell_type": "markdown",
   "source": [
    "# Step 2: Regression\n",
    "### Linear regression\n"
   ],
   "metadata": {
    "collapsed": false
   }
  },
  {
   "cell_type": "code",
   "execution_count": null,
   "outputs": [],
   "source": [
    "from sklearn.model_selection import train_test_split\n",
    "\n",
    "df_train, df_test = train_test_split(df, test_size=0.3)"
   ],
   "metadata": {
    "collapsed": false
   }
  },
  {
   "cell_type": "code",
   "execution_count": null,
   "outputs": [],
   "source": [
    "from sklearn.linear_model import LinearRegression\n",
    "from sklearn.metrics import mean_squared_error, r2_score"
   ],
   "metadata": {
    "collapsed": false
   }
  },
  {
   "cell_type": "code",
   "execution_count": null,
   "outputs": [],
   "source": [
    "def linear_reg(df, model_name):\n",
    "    x_train = df[[f'{model_name}_pos', f'{model_name}_neu', f'{model_name}_neg']]\n",
    "    y_train = df['sentiment_encoded']\n",
    "\n",
    "    model = LinearRegression()\n",
    "    model.fit(x_train, y_train)\n",
    "\n",
    "    return model"
   ],
   "metadata": {
    "collapsed": false
   }
  },
  {
   "cell_type": "code",
   "execution_count": null,
   "outputs": [],
   "source": [
    "def predict_reg(df, model, model_name):\n",
    "    return model.predict(df[[f'{model_name}_pos', f'{model_name}_neu', f'{model_name}_neg']])"
   ],
   "metadata": {
    "collapsed": false
   }
  },
  {
   "cell_type": "code",
   "execution_count": null,
   "outputs": [],
   "source": [
    "def test_reg(model_name, y_test, y_pred):\n",
    "    mse = mean_squared_error(y_test, y_pred)\n",
    "    r2 = r2_score(y_test, y_pred)\n",
    "    print(f'Mean Squared Error ({model_name}):', mse)\n",
    "    print(f'R-squared ({model_name}):', r2)"
   ],
   "metadata": {
    "collapsed": false
   }
  },
  {
   "cell_type": "code",
   "execution_count": null,
   "outputs": [],
   "source": [
    "model = linear_reg(df_train, 'vader')\n",
    "df_train['vader_linear_reg'] = predict_reg(df_train, model, 'vader').clip(min=0, max=1)\n",
    "df_test['vader_linear_reg'] = predict_reg(df_test, model, 'vader').clip(min=0, max=1)\n",
    "test_reg('vader', df_test['sentiment_encoded'], df_test['vader_linear_reg'])"
   ],
   "metadata": {
    "collapsed": false
   }
  },
  {
   "cell_type": "code",
   "execution_count": null,
   "outputs": [],
   "source": [
    "model = linear_reg(df_train, 'roberta')\n",
    "df_train['roberta_linear_reg'] = predict_reg(df_train, model, 'roberta').clip(min=0, max=1)\n",
    "df_test['roberta_linear_reg'] = predict_reg(df_test, model, 'roberta').clip(min=0, max=1)\n",
    "test_reg('roberta', df_test['sentiment_encoded'], df_test['roberta_linear_reg'])"
   ],
   "metadata": {
    "collapsed": false
   }
  },
  {
   "cell_type": "markdown",
   "source": [
    "### Polynomial regression"
   ],
   "metadata": {
    "collapsed": false
   }
  },
  {
   "cell_type": "code",
   "execution_count": null,
   "outputs": [],
   "source": [
    "from sklearn.preprocessing import PolynomialFeatures\n",
    "\n",
    "def poly_reg(df, model_name, degree):\n",
    "    x_train = df[[f'{model_name}_pos', f'{model_name}_neu', f'{model_name}_neg']]\n",
    "    y_train = df['sentiment_encoded']\n",
    "\n",
    "    polynomial_features = PolynomialFeatures(degree=degree)\n",
    "    x_train_poly = polynomial_features.fit_transform(x_train)\n",
    "\n",
    "    model = LinearRegression()\n",
    "    model.fit(x_train_poly, y_train)\n",
    "\n",
    "    return model"
   ],
   "metadata": {
    "collapsed": false
   }
  },
  {
   "cell_type": "code",
   "execution_count": null,
   "outputs": [],
   "source": [
    "def predict_poly_reg(df, model, model_name, degree):\n",
    "    x_train = df[[f'{model_name}_pos', f'{model_name}_neu', f'{model_name}_neg']]\n",
    "\n",
    "    polynomial_features = PolynomialFeatures(degree=degree)\n",
    "    x_train_poly = polynomial_features.fit_transform(x_train)\n",
    "\n",
    "    return model.predict(x_train_poly)"
   ],
   "metadata": {
    "collapsed": false
   }
  },
  {
   "cell_type": "code",
   "execution_count": null,
   "outputs": [],
   "source": [
    "model = poly_reg(df_train, 'vader', 2)\n",
    "df_train['vader_poly_reg'] = predict_poly_reg(df_train, model, 'vader', 2).clip(min=0, max=1)\n",
    "df_test['vader_poly_reg'] = predict_poly_reg(df_test, model, 'vader', 2).clip(min=0, max=1)\n",
    "test_reg('vader', df_test['sentiment_encoded'], df_test['vader_poly_reg'])"
   ],
   "metadata": {
    "collapsed": false
   }
  },
  {
   "cell_type": "code",
   "execution_count": null,
   "outputs": [],
   "source": [
    "model = poly_reg(df_train, 'roberta', 2)\n",
    "df_train['roberta_poly_reg'] = predict_poly_reg(df_train, model, 'roberta', 2).clip(min=0, max=1)\n",
    "df_test['roberta_poly_reg'] = predict_poly_reg(df_test, model, 'roberta', 2).clip(min=0, max=1)\n",
    "test_reg('roberta', df_test['sentiment_encoded'], df_test['roberta_poly_reg'])"
   ],
   "metadata": {
    "collapsed": false
   }
  },
  {
   "cell_type": "markdown",
   "source": [
    "### Logistic regression"
   ],
   "metadata": {
    "collapsed": false
   }
  },
  {
   "cell_type": "code",
   "execution_count": null,
   "outputs": [],
   "source": [
    "from sklearn.linear_model import LogisticRegression\n",
    "from sklearn.preprocessing import StandardScaler\n",
    "\n",
    "def log_reg(df, model_name):\n",
    "    x_train = df[[f'{model_name}_pos', f'{model_name}_neu', f'{model_name}_neg']]\n",
    "    y_train = df['sentiment_encoded']\n",
    "\n",
    "    # Scale the features\n",
    "    scaler = StandardScaler()\n",
    "    x_train_scaled = scaler.fit_transform(x_train)\n",
    "\n",
    "    # Train SVR regression model\n",
    "    model = LogisticRegression()\n",
    "    model.fit(x_train_scaled, y_train)\n",
    "\n",
    "    return model"
   ],
   "metadata": {
    "collapsed": false
   }
  },
  {
   "cell_type": "code",
   "execution_count": null,
   "outputs": [],
   "source": [
    "def predict_scaled_reg(df, model, model_name):\n",
    "    x_train = df[[f'{model_name}_pos', f'{model_name}_neu', f'{model_name}_neg']]\n",
    "\n",
    "    scaler = StandardScaler()\n",
    "    x_train_scaled = scaler.fit_transform(x_train)\n",
    "\n",
    "    return model.predict(x_train_scaled)"
   ],
   "metadata": {
    "collapsed": false
   }
  },
  {
   "cell_type": "code",
   "execution_count": null,
   "outputs": [],
   "source": [
    "model = log_reg(df_train, 'vader')\n",
    "df_train['vader_log_reg'] = predict_scaled_reg(df_train, model, 'vader')\n",
    "df_test['vader_log_reg'] = predict_scaled_reg(df_test, model, 'vader')\n",
    "test_reg('vader', df_test['sentiment_encoded'], df_test['vader_log_reg'])"
   ],
   "metadata": {
    "collapsed": false
   }
  },
  {
   "cell_type": "code",
   "execution_count": null,
   "outputs": [],
   "source": [
    "model = log_reg(df_train, 'roberta')\n",
    "df_train['roberta_log_reg'] = predict_scaled_reg(df_train, model, 'roberta')\n",
    "df_test['roberta_log_reg'] = predict_scaled_reg(df_test, model, 'roberta')\n",
    "test_reg('roberta', df_test['sentiment_encoded'], df_test['roberta_log_reg'])"
   ],
   "metadata": {
    "collapsed": false
   }
  },
  {
   "cell_type": "markdown",
   "source": [
    "# Step 3: Classification"
   ],
   "metadata": {
    "collapsed": false
   }
  },
  {
   "cell_type": "code",
   "execution_count": null,
   "outputs": [],
   "source": [
    "from sklearn.naive_bayes import MultinomialNB\n",
    "from sklearn.metrics import accuracy_score, precision_score, f1_score, recall_score\n",
    "from sklearn.ensemble import VotingClassifier\n",
    "from sklearn.feature_extraction.text import TfidfVectorizer\n",
    "from sklearn.tree import DecisionTreeClassifier\n",
    "from sklearn.svm import SVC\n",
    "from scipy.sparse import hstack"
   ],
   "metadata": {
    "collapsed": false
   }
  },
  {
   "cell_type": "code",
   "execution_count": null,
   "outputs": [],
   "source": [
    "x_train = df_train[['roberta_neg', 'roberta_neu', 'roberta_pos', 'roberta_linear_reg', 'roberta_poly_reg', 'roberta_log_reg']]\n",
    "x_test = df_test[['roberta_neg', 'roberta_neu', 'roberta_pos', 'roberta_linear_reg', 'roberta_poly_reg', 'roberta_log_reg']]\n",
    "\n",
    "train_texts = df_train['Text']\n",
    "train_labels = df_train['Score']\n",
    "\n",
    "test_texts = df_test['Text']\n",
    "test_labels = df_test['Score']"
   ],
   "metadata": {
    "collapsed": false
   }
  },
  {
   "cell_type": "markdown",
   "source": [
    "### Ensemble"
   ],
   "metadata": {
    "collapsed": false
   }
  },
  {
   "cell_type": "code",
   "execution_count": null,
   "outputs": [],
   "source": [
    "# Create a TfidfVectorizer to convert text into a matrix of token counts\n",
    "vectorizer = TfidfVectorizer()\n",
    "train_features = vectorizer.fit_transform(train_texts)\n",
    "test_features = vectorizer.transform(test_texts)\n",
    "\n",
    "# Combine the test features with the train features\n",
    "train_combined_features = hstack((train_features, x_train))\n",
    "test_combined_features = hstack((test_features, x_test))\n",
    "\n",
    "# Define the individual classifiers\n",
    "classifier1 = MultinomialNB()\n",
    "classifier2 = DecisionTreeClassifier()\n",
    "classifier3 = SVC()\n",
    "\n",
    "# Create a VotingClassifier with the individual classifiers\n",
    "voting_classifier = VotingClassifier(\n",
    "    estimators=[('nb', classifier1), ('dtc', classifier2), ('svm', classifier3)],\n",
    "    voting='hard'\n",
    ")\n",
    "\n",
    "# Train the VotingClassifier\n",
    "voting_classifier.fit(train_combined_features, train_labels)\n",
    "\n",
    "# Make predictions on the test data\n",
    "predictions = voting_classifier.predict(test_combined_features)\n",
    "df_test['voting_classifier'] = predictions\n",
    "\n",
    "# Calculate and print the accuracy of the classifier\n",
    "accuracy = accuracy_score(test_labels, predictions)\n",
    "precision = precision_score(test_labels, predictions, pos_label='pos')\n",
    "recall = recall_score(test_labels, predictions, pos_label='pos')\n",
    "f1 = f1_score(test_labels, predictions, pos_label='pos')\n",
    "\n",
    "print(f\"Accuracy: {accuracy:.2f}\")\n",
    "print(f\"Precision: {precision:.2f}\")\n",
    "print(f\"Recall: {recall:.2f}\")\n",
    "print(f\"F1-score: {f1:.2f}\")"
   ],
   "metadata": {
    "collapsed": false
   }
  },
  {
   "cell_type": "code",
   "execution_count": null,
   "outputs": [],
   "source": [
    "from sklearn.metrics import silhouette_score, adjusted_rand_score\n",
    "\n",
    "silhouette = silhouette_score(x_test, predictions)\n",
    "adjusted_rand = adjusted_rand_score(test_labels, predictions)\n",
    "\n",
    "print(f'Silhouette Score:', silhouette)\n",
    "print(f'Adjusted Rand Index:', adjusted_rand)"
   ],
   "metadata": {
    "collapsed": false
   }
  },
  {
   "cell_type": "code",
   "execution_count": null,
   "outputs": [],
   "source": [
    "import matplotlib.pyplot as plt\n",
    "from sklearn.decomposition import PCA\n",
    "\n",
    "def plot_2d_projection(label):\n",
    "    x = df_test[[f'roberta_neg', f'roberta_neu', f'roberta_pos', f'roberta_poly_reg',]]\n",
    "\n",
    "    pca = PCA(n_components=2)\n",
    "    x_2d = pca.fit_transform(x)\n",
    "\n",
    "    df_plot = pd.DataFrame({'PC1': x_2d[:, 0], 'PC2': x_2d[:, 1], 'Cluster': df_test[label]})\n",
    "\n",
    "    sns.set(style='whitegrid')\n",
    "\n",
    "    sns.scatterplot(data=df_plot, x='PC1', y='PC2', hue='Cluster', palette='Set1', hue_order=['neg', 'pos'])\n",
    "    plt.xlabel('PC1')\n",
    "    plt.ylabel('PC2')\n",
    "    plt.title(f'2D Projection of Classification Features model - Clustering based on {label}')\n",
    "    plt.show()\n",
    "\n",
    "plot_2d_projection('Score')\n",
    "plot_2d_projection('voting_classifier')"
   ],
   "metadata": {
    "collapsed": false
   }
  },
  {
   "cell_type": "code",
   "execution_count": null,
   "outputs": [],
   "source": [
    "from sklearn.metrics import confusion_matrix\n",
    "\n",
    "def plot_confusion_matrix(label):\n",
    "    cm = confusion_matrix(df_test[label], df_test['Score'])\n",
    "\n",
    "    class_labels = ['neg', 'pos']\n",
    "\n",
    "    sns.heatmap(cm, annot=True, cmap='Blues', fmt='d', xticklabels=class_labels, yticklabels=class_labels)\n",
    "\n",
    "    plt.xlabel('Predicted Labels')\n",
    "    plt.ylabel('True Labels')\n",
    "    plt.title(f'Confusion Matrix ({label})')\n",
    "\n",
    "    plt.show()\n",
    "\n",
    "plot_confusion_matrix('voting_classifier')"
   ],
   "metadata": {
    "collapsed": false
   }
  },
  {
   "cell_type": "code",
   "execution_count": null,
   "outputs": [],
   "source": [],
   "metadata": {
    "collapsed": false
   }
  }
 ],
 "metadata": {
  "kernelspec": {
   "display_name": "Python 3",
   "language": "python",
   "name": "python3"
  },
  "language_info": {
   "codemirror_mode": {
    "name": "ipython",
    "version": 2
   },
   "file_extension": ".py",
   "mimetype": "text/x-python",
   "name": "python",
   "nbconvert_exporter": "python",
   "pygments_lexer": "ipython2",
   "version": "2.7.6"
  }
 },
 "nbformat": 4,
 "nbformat_minor": 0
}
